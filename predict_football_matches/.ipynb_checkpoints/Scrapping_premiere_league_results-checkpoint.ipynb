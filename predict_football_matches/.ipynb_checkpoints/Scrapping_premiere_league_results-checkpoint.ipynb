{
 "cells": [
  {
   "cell_type": "code",
   "execution_count": 1,
   "id": "864e4335",
   "metadata": {},
   "outputs": [],
   "source": [
    "import requests"
   ]
  },
  {
   "cell_type": "code",
   "execution_count": 2,
   "id": "ea23f179",
   "metadata": {},
   "outputs": [],
   "source": [
    "standingsURL = 'https://fbref.com/en/comps/9/premier-league-stats'"
   ]
  },
  {
   "cell_type": "code",
   "execution_count": 3,
   "id": "4a9202f5",
   "metadata": {},
   "outputs": [],
   "source": [
    "data = requests.get(standingsURL)"
   ]
  },
  {
   "cell_type": "code",
   "execution_count": 4,
   "id": "c9cf1d72",
   "metadata": {},
   "outputs": [],
   "source": [
    "from bs4 import BeautifulSoup"
   ]
  },
  {
   "cell_type": "code",
   "execution_count": 5,
   "id": "221ea190",
   "metadata": {},
   "outputs": [],
   "source": [
    "soup = BeautifulSoup(data.text)"
   ]
  },
  {
   "cell_type": "code",
   "execution_count": 6,
   "id": "000da121",
   "metadata": {},
   "outputs": [],
   "source": [
    "standingsTable = soup.select('table.stats_table')[0]"
   ]
  },
  {
   "cell_type": "code",
   "execution_count": null,
   "id": "d67eda32",
   "metadata": {},
   "outputs": [],
   "source": []
  },
  {
   "cell_type": "code",
   "execution_count": 7,
   "id": "bf1ce94c",
   "metadata": {},
   "outputs": [],
   "source": [
    "links = standingsTable.find_all('a')"
   ]
  },
  {
   "cell_type": "code",
   "execution_count": 8,
   "id": "5edcbdff",
   "metadata": {},
   "outputs": [],
   "source": [
    "links = [l.get('href') for l in links]"
   ]
  },
  {
   "cell_type": "code",
   "execution_count": 9,
   "id": "559aa778",
   "metadata": {},
   "outputs": [],
   "source": [
    "links = [l for l in links if '/squads/' in l]"
   ]
  },
  {
   "cell_type": "code",
   "execution_count": 10,
   "id": "eaab6552",
   "metadata": {},
   "outputs": [],
   "source": [
    "teamURLs = [f'https://fbref.com{l}' for l in links]"
   ]
  },
  {
   "cell_type": "code",
   "execution_count": 11,
   "id": "0ce78e36",
   "metadata": {},
   "outputs": [],
   "source": [
    "data = requests.get(teamURLs[0])"
   ]
  },
  {
   "cell_type": "code",
   "execution_count": 12,
   "id": "44b0a475",
   "metadata": {},
   "outputs": [],
   "source": [
    "import pandas as pd\n",
    "from lxml import html\n",
    "matches = pd.read_html(data.text, match='Scores & Fixtures')[0]"
   ]
  },
  {
   "cell_type": "code",
   "execution_count": 13,
   "id": "1f68e392",
   "metadata": {},
   "outputs": [],
   "source": [
    "soup = BeautifulSoup(data.text)"
   ]
  },
  {
   "cell_type": "code",
   "execution_count": 14,
   "id": "79edc106",
   "metadata": {},
   "outputs": [],
   "source": [
    "links = soup.find_all('a')"
   ]
  },
  {
   "cell_type": "code",
   "execution_count": 15,
   "id": "a95b2a5c",
   "metadata": {},
   "outputs": [],
   "source": [
    "links = [l.get('href') for l in links]"
   ]
  },
  {
   "cell_type": "code",
   "execution_count": 16,
   "id": "8efba47d",
   "metadata": {},
   "outputs": [],
   "source": [
    "links =[l for l in links if l and 'all_comps/shooting/' in l]"
   ]
  },
  {
   "cell_type": "code",
   "execution_count": 17,
   "id": "95e56d7a",
   "metadata": {},
   "outputs": [],
   "source": [
    "data = requests.get(f'https://fbref.com{links[0]}')"
   ]
  },
  {
   "cell_type": "code",
   "execution_count": 18,
   "id": "73e62b65",
   "metadata": {},
   "outputs": [],
   "source": [
    "shooting = pd.read_html(data.text, match='Shooting')[0]"
   ]
  },
  {
   "cell_type": "code",
   "execution_count": 19,
   "id": "c4033a1d",
   "metadata": {},
   "outputs": [],
   "source": [
    "shooting.columns = shooting.columns.droplevel()"
   ]
  },
  {
   "cell_type": "code",
   "execution_count": 20,
   "id": "fc9f8650",
   "metadata": {},
   "outputs": [],
   "source": [
    "teamData = matches.merge(shooting[['Date', 'Sh', 'SoT', 'Dist', 'FK', 'PK', 'PKatt']],  on='Date')"
   ]
  },
  {
   "cell_type": "code",
   "execution_count": 21,
   "id": "274362ec",
   "metadata": {},
   "outputs": [],
   "source": [
    "years = list(range(2022, 2021, -1))"
   ]
  },
  {
   "cell_type": "code",
   "execution_count": 22,
   "id": "8701d0c2",
   "metadata": {},
   "outputs": [],
   "source": [
    "allMatches = []"
   ]
  },
  {
   "cell_type": "code",
   "execution_count": 23,
   "id": "4b8bec4f",
   "metadata": {},
   "outputs": [
    {
     "ename": "IndexError",
     "evalue": "list index out of range",
     "output_type": "error",
     "traceback": [
      "\u001b[1;31m---------------------------------------------------------------------------\u001b[0m",
      "\u001b[1;31mIndexError\u001b[0m                                Traceback (most recent call last)",
      "Input \u001b[1;32mIn [23]\u001b[0m, in \u001b[0;36m<cell line: 2>\u001b[1;34m()\u001b[0m\n\u001b[0;32m      4\u001b[0m soup \u001b[38;5;241m=\u001b[39m BeautifulSoup(data\u001b[38;5;241m.\u001b[39mtext)\n\u001b[0;32m      5\u001b[0m time\u001b[38;5;241m.\u001b[39msleep(\u001b[38;5;241m5\u001b[39m)\n\u001b[1;32m----> 6\u001b[0m standingsTable \u001b[38;5;241m=\u001b[39m \u001b[43msoup\u001b[49m\u001b[38;5;241;43m.\u001b[39;49m\u001b[43mselect\u001b[49m\u001b[43m(\u001b[49m\u001b[38;5;124;43m'\u001b[39;49m\u001b[38;5;124;43mtable.stats_table\u001b[39;49m\u001b[38;5;124;43m'\u001b[39;49m\u001b[43m)\u001b[49m\u001b[43m[\u001b[49m\u001b[38;5;241;43m0\u001b[39;49m\u001b[43m]\u001b[49m\n\u001b[0;32m      8\u001b[0m links \u001b[38;5;241m=\u001b[39m [l\u001b[38;5;241m.\u001b[39mget(\u001b[38;5;124m'\u001b[39m\u001b[38;5;124mhref\u001b[39m\u001b[38;5;124m'\u001b[39m) \u001b[38;5;28;01mfor\u001b[39;00m l \u001b[38;5;129;01min\u001b[39;00m standingsTable\u001b[38;5;241m.\u001b[39mfind_all(\u001b[38;5;124m'\u001b[39m\u001b[38;5;124ma\u001b[39m\u001b[38;5;124m'\u001b[39m)]\n\u001b[0;32m      9\u001b[0m links \u001b[38;5;241m=\u001b[39m [l \u001b[38;5;28;01mfor\u001b[39;00m l \u001b[38;5;129;01min\u001b[39;00m links \u001b[38;5;28;01mif\u001b[39;00m \u001b[38;5;124m'\u001b[39m\u001b[38;5;124m/squads/\u001b[39m\u001b[38;5;124m'\u001b[39m \u001b[38;5;129;01min\u001b[39;00m l]\n",
      "\u001b[1;31mIndexError\u001b[0m: list index out of range"
     ]
    }
   ],
   "source": [
    "import time\n",
    "for year in years:\n",
    "    data = requests.get(standingsURL)\n",
    "    soup = BeautifulSoup(data.text)\n",
    "    time.sleep(5)\n",
    "    standingsTable = soup.select('table.stats_table')[0]\n",
    "    \n",
    "    links = [l.get('href') for l in standingsTable.find_all('a')]\n",
    "    links = [l for l in links if '/squads/' in l]\n",
    "    teamURLs = [f'https://fbref.com{l}' for l in links]\n",
    "    \n",
    "    previousSeasons = soup.select('a.prev')[0].get('href')\n",
    "    standingURL = f'https://fbref.com{previousSeasons}'\n",
    "    \n",
    "\n",
    "    for teamURL in teamURLs:\n",
    "        teamName = teamURL.split('/')[-1].replace('-Stats', '').replace('-', ' ')\n",
    "\n",
    "        data = requests.get(teamURL)\n",
    "        matches = pd.read_html(data.text, match='Scores & Fixtures')[0]\n",
    "\n",
    "\n",
    "        soup = BeautifulSoup(data.text)\n",
    "        time.sleep(5)\n",
    "        links = [l.get('href') for l in soup.find_all('a')]\n",
    "        links = [l for l in links if l and 'all_comps/shooting/' in l]\n",
    "        data = requests.get(f'https://fbref.com{links[0]}')\n",
    "        shooting = pd.read_html(data.text, match='Shooting')[0]\n",
    "        shooting.columns = shooting.columns.droplevel()\n",
    "\n",
    "        try:\n",
    "            teamData = matches.merge(shooting[['Date', 'Sh', 'SoT', 'Dist', 'FK', 'PK', 'PKatt']],  on='Date')\n",
    "        except ValueError:\n",
    "            continue\n",
    "\n",
    "        teamData = teamData[teamData['Comp'] == 'Premier League']\n",
    "        teamData['Season'] = year\n",
    "        teamData['Team'] = teamName\n",
    "        allMatches.append(teamData)\n",
    "        time.sleep(5)\n",
    "    \n",
    "    "
   ]
  },
  {
   "cell_type": "code",
   "execution_count": null,
   "id": "3e0ccf92",
   "metadata": {},
   "outputs": [],
   "source": [
    "matchDF = pd.concat(allMatches)"
   ]
  },
  {
   "cell_type": "code",
   "execution_count": null,
   "id": "479f7ed8",
   "metadata": {},
   "outputs": [],
   "source": [
    "matchDF.columns = [c.lower() for c in matchDF.columns]"
   ]
  },
  {
   "cell_type": "code",
   "execution_count": null,
   "id": "dd4ec614",
   "metadata": {},
   "outputs": [],
   "source": [
    "matchDF.to_csv('myMatches.csv')"
   ]
  },
  {
   "cell_type": "code",
   "execution_count": null,
   "id": "5d414d7e",
   "metadata": {},
   "outputs": [],
   "source": []
  }
 ],
 "metadata": {
  "kernelspec": {
   "display_name": "Python 3 (ipykernel)",
   "language": "python",
   "name": "python3"
  },
  "language_info": {
   "codemirror_mode": {
    "name": "ipython",
    "version": 3
   },
   "file_extension": ".py",
   "mimetype": "text/x-python",
   "name": "python",
   "nbconvert_exporter": "python",
   "pygments_lexer": "ipython3",
   "version": "3.10.4"
  }
 },
 "nbformat": 4,
 "nbformat_minor": 5
}
