{
 "cells": [
  {
   "cell_type": "code",
   "execution_count": 1,
   "id": "864e4335",
   "metadata": {},
   "outputs": [],
   "source": [
    "import requests"
   ]
  },
  {
   "cell_type": "code",
   "execution_count": 2,
   "id": "ea23f179",
   "metadata": {},
   "outputs": [],
   "source": [
    "standingsURL = 'https://fbref.com/en/comps/9/premier-league-stats'"
   ]
  },
  {
   "cell_type": "code",
   "execution_count": 3,
   "id": "4a9202f5",
   "metadata": {},
   "outputs": [],
   "source": [
    "data = requests.get(standingsURL)"
   ]
  },
  {
   "cell_type": "code",
   "execution_count": 4,
   "id": "c9cf1d72",
   "metadata": {},
   "outputs": [],
   "source": [
    "from bs4 import BeautifulSoup"
   ]
  },
  {
   "cell_type": "code",
   "execution_count": 5,
   "id": "221ea190",
   "metadata": {},
   "outputs": [],
   "source": [
    "soup = BeautifulSoup(data.text)"
   ]
  },
  {
   "cell_type": "code",
   "execution_count": 6,
   "id": "000da121",
   "metadata": {},
   "outputs": [],
   "source": [
    "standingsTable = soup.select('table.stats_table')[0]"
   ]
  },
  {
   "cell_type": "code",
   "execution_count": 7,
   "id": "287059e1",
   "metadata": {},
   "outputs": [
    {
     "data": {
      "text/plain": [
       "<table class=\"stats_table sortable min_width\" data-cols-to-freeze=\",2\" id=\"results111601_overall\"> <caption>League Table Table</caption> <colgroup><col/><col/><col/><col/><col/><col/><col/><col/><col/><col/><col/><col/><col/><col/><col/><col/><col/><col/><col/></colgroup> <thead> <tr> <th aria-label=\"Rk\" class=\"poptip sort_default_asc center\" data-stat=\"rank\" data-tip=\"&lt;strong&gt;Squad finish in competition&lt;/strong&gt;&lt;br&gt;Finish within the league or competition.&lt;br&gt;For knockout competitions may show final round reached.&lt;br&gt;Colors and arrows represent promotion/relegation or qualifiation for continental cups.&lt;br&gt;Trophy indicates team won league whether by playoffs or by leading the table.&lt;br&gt;Star indicates topped table in league USING another means of naming champion.\" scope=\"col\">Rk</th> <th aria-label=\"Squad\" class=\"poptip sort_default_asc center\" data-stat=\"squad\" scope=\"col\">Squad</th> <th aria-label=\"MP\" class=\"poptip center\" data-stat=\"games\" data-tip=\"&lt;strong&gt;Matches Played&lt;/strong&gt;&lt;br&gt;Matches Played by the player or squad\" scope=\"col\">MP</th> <th aria-label=\"Wins\" class=\"poptip center\" data-stat=\"wins\" data-tip=\"Wins\" scope=\"col\">W</th> <th aria-label=\"Draws\" class=\"poptip center\" data-stat=\"draws\" data-tip=\"Draws\" scope=\"col\">D</th> <th aria-label=\"Losses\" class=\"poptip center\" data-stat=\"losses\" data-tip=\"Losses\" scope=\"col\">L</th> <th aria-label=\"GF\" class=\"poptip center\" data-stat=\"goals_for\" data-tip=\"Goals For\" scope=\"col\">GF</th> <th aria-label=\"Goals Against\" class=\"poptip center\" data-stat=\"goals_against\" data-tip=\"Goals Against\" scope=\"col\">GA</th> <th aria-label=\"Goal Difference\" class=\"poptip center\" data-stat=\"goal_diff\" data-tip=\"Goal Difference\" scope=\"col\">GD</th> <th aria-label=\"Pts\" class=\"poptip center\" data-stat=\"points\" data-tip=\"Most leagues are ordered by points.&lt;br&gt;Three for a win and one for a draw.\" scope=\"col\">Pts</th> <th aria-label=\"Pts/MP\" class=\"poptip center\" data-stat=\"points_avg\" data-tip=\"Points per Match Played\" scope=\"col\">Pts/MP</th> <th aria-label=\"xG\" class=\"poptip center\" data-filter=\"1\" data-name=\"xG\" data-stat=\"xg_for\" data-tip=\"&lt;strong&gt;Expected Goals&lt;/strong&gt;&lt;br&gt;xG totals include penalty kicks, but do not include penalty shootouts (unless otherwise noted).&lt;br&gt;Provided by StatsBomb.&lt;br&gt;An underline indicates there is a match that is missing data, but will be updated when available.\" scope=\"col\">xG</th> <th aria-label=\"xGA\" class=\"poptip sort_default_asc center\" data-stat=\"xg_against\" data-tip=\"&lt;strong&gt;Expected Goals Allowed&lt;/strong&gt;&lt;br&gt;xG totals include penalty kicks, but do not include penalty shootouts (unless otherwise noted).&lt;br&gt;Provided by StatsBomb.&lt;br&gt;An underline indicates there is a match that is missing data, but will be updated when available.\" scope=\"col\">xGA</th> <th aria-label=\"xG Difference\" class=\"poptip center\" data-filter=\"1\" data-name=\"xG Difference\" data-stat=\"xg_diff\" data-tip=\"&lt;strong&gt;Expected Goals Difference&lt;/strong&gt;&lt;br&gt;xG totals include penalty kicks, but do not include penalty shootouts (unless otherwise noted).&lt;br&gt;Provided by StatsBomb.&lt;br&gt;An underline indicates there is a match that is missing data, but will be updated when available.\" scope=\"col\">xGD</th> <th aria-label=\"xGD/90\" class=\"poptip hide_non_quals center\" data-stat=\"xg_diff_per90\" data-tip=\"&lt;strong&gt;Expected Goals Difference per 90 Minutes&lt;/strong&gt;&lt;br&gt;xG totals include penalty kicks, but do not include penalty shootouts (unless otherwise noted).&lt;br&gt;Provided by StatsBomb.&lt;br&gt;An underline indicates there is a match that is missing data, but will be updated when available.\" scope=\"col\">xGD/90</th> <th aria-label=\"Attendance\" class=\"poptip center\" data-stat=\"attendance_per_g\" data-tip=\"Attendance per game during this season, only for home matches\" scope=\"col\">Attendance</th> <th aria-label=\"Top Team Scorer\" class=\"poptip center\" data-stat=\"top_team_scorers\" data-tip=\"Only includes league matches for that season\" scope=\"col\">Top Team Scorer</th> <th aria-label=\"Goalkeeper\" class=\"poptip center\" data-stat=\"top_keeper\" data-tip=\"Goalkeeper with the most minutes in league play\" scope=\"col\">Goalkeeper</th> <th aria-label=\"Notes\" class=\"poptip center\" data-stat=\"notes\" scope=\"col\">Notes</th> </tr> </thead> <tbody> <tr><th class=\"right qualifier1\" csk=\"1\" data-stat=\"rank\" scope=\"row\">1</th><td class=\"left\" data-stat=\"squad\"><img alt=\"Club Crest\" height=\"13\" itemscope=\"image\" src=\"https://d2p3bygnnzw9w3.cloudfront.net/req/202207051/tlogo/fb/mini.b8fd03ef.png\" style=\"vertical-align:text-top\" width=\"13\"/> <a href=\"/en/squads/b8fd03ef/Manchester-City-Stats\">Manchester City</a></td><td class=\"right\" data-stat=\"games\">38</td><td class=\"right\" data-stat=\"wins\">29</td><td class=\"right\" data-stat=\"draws\">6</td><td class=\"right\" data-stat=\"losses\">3</td><td class=\"right\" data-stat=\"goals_for\">99</td><td class=\"right\" data-stat=\"goals_against\">26</td><td class=\"right\" data-stat=\"goal_diff\">+73</td><td class=\"right\" data-stat=\"points\">93</td><td class=\"right\" data-stat=\"points_avg\">2.45</td><td class=\"right\" data-stat=\"xg_for\">89.0</td><td class=\"right\" data-stat=\"xg_against\">27.2</td><td class=\"right\" data-stat=\"xg_diff\">+61.9</td><td class=\"right\" data-stat=\"xg_diff_per90\">+1.63</td><td class=\"right\" csk=\"52774\" data-stat=\"attendance_per_g\">52,774</td><td class=\"right\" csk=\"15\" data-stat=\"top_team_scorers\"><a href=\"/en/players/e46012d4/Kevin-De-Bruyne\">Kevin De Bruyne</a> - <span>15</span></td><td class=\"right\" data-stat=\"top_keeper\"><a href=\"/en/players/3bb7b8b4/Ederson\">Ederson</a></td><td class=\"left\" data-stat=\"notes\">→ Champions League via league finish</td></tr> <tr><th class=\"right qualifier1\" csk=\"2\" data-stat=\"rank\" scope=\"row\">2</th><td class=\"left\" data-stat=\"squad\"><img alt=\"Club Crest\" height=\"13\" itemscope=\"image\" src=\"https://d2p3bygnnzw9w3.cloudfront.net/req/202207051/tlogo/fb/mini.822bd0ba.png\" style=\"vertical-align:text-top\" width=\"13\"/> <a href=\"/en/squads/822bd0ba/Liverpool-Stats\">Liverpool</a></td><td class=\"right\" data-stat=\"games\">38</td><td class=\"right\" data-stat=\"wins\">28</td><td class=\"right\" data-stat=\"draws\">8</td><td class=\"right\" data-stat=\"losses\">2</td><td class=\"right\" data-stat=\"goals_for\">94</td><td class=\"right\" data-stat=\"goals_against\">26</td><td class=\"right\" data-stat=\"goal_diff\">+68</td><td class=\"right\" data-stat=\"points\">92</td><td class=\"right\" data-stat=\"points_avg\">2.42</td><td class=\"right\" data-stat=\"xg_for\">89.2</td><td class=\"right\" data-stat=\"xg_against\">34.3</td><td class=\"right\" data-stat=\"xg_diff\">+55.0</td><td class=\"right\" data-stat=\"xg_diff_per90\">+1.45</td><td class=\"right\" csk=\"53352\" data-stat=\"attendance_per_g\">53,352</td><td class=\"right\" csk=\"23\" data-stat=\"top_team_scorers\"><a href=\"/en/players/e342ad68/Mohamed-Salah\">Mohamed Salah</a> - <span>23</span></td><td class=\"right\" data-stat=\"top_keeper\"><a href=\"/en/players/7a2e46a8/Alisson\">Alisson</a></td><td class=\"left\" data-stat=\"notes\">→ Champions League via league finish</td></tr> <tr><th class=\"right qualifier1\" csk=\"3\" data-stat=\"rank\" scope=\"row\">3</th><td class=\"left\" data-stat=\"squad\"><img alt=\"Club Crest\" height=\"13\" itemscope=\"image\" src=\"https://d2p3bygnnzw9w3.cloudfront.net/req/202207051/tlogo/fb/mini.cff3d9bb.png\" style=\"vertical-align:text-top\" width=\"13\"/> <a href=\"/en/squads/cff3d9bb/Chelsea-Stats\">Chelsea</a></td><td class=\"right\" data-stat=\"games\">38</td><td class=\"right\" data-stat=\"wins\">21</td><td class=\"right\" data-stat=\"draws\">11</td><td class=\"right\" data-stat=\"losses\">6</td><td class=\"right\" data-stat=\"goals_for\">76</td><td class=\"right\" data-stat=\"goals_against\">33</td><td class=\"right\" data-stat=\"goal_diff\">+43</td><td class=\"right\" data-stat=\"points\">74</td><td class=\"right\" data-stat=\"points_avg\">1.95</td><td class=\"right\" data-stat=\"xg_for\">67.2</td><td class=\"right\" data-stat=\"xg_against\">36.0</td><td class=\"right\" data-stat=\"xg_diff\">+31.3</td><td class=\"right\" data-stat=\"xg_diff_per90\">+0.82</td><td class=\"right\" csk=\"36443\" data-stat=\"attendance_per_g\">36,443</td><td class=\"right\" csk=\"11\" data-stat=\"top_team_scorers\"><a href=\"/en/players/9674002f/Mason-Mount\">Mason Mount</a> - <span>11</span></td><td class=\"right\" data-stat=\"top_keeper\"><a href=\"/en/players/33887998/Edouard-Mendy\">Edouard Mendy</a></td><td class=\"left\" data-stat=\"notes\">→ Champions League via league finish</td></tr> <tr><th class=\"right qualifier1\" csk=\"4\" data-stat=\"rank\" scope=\"row\">4</th><td class=\"left\" data-stat=\"squad\"><img alt=\"Club Crest\" height=\"13\" itemscope=\"image\" src=\"https://d2p3bygnnzw9w3.cloudfront.net/req/202207051/tlogo/fb/mini.361ca564.png\" style=\"vertical-align:text-top\" width=\"13\"/> <a href=\"/en/squads/361ca564/Tottenham-Hotspur-Stats\">Tottenham</a></td><td class=\"right\" data-stat=\"games\">38</td><td class=\"right\" data-stat=\"wins\">22</td><td class=\"right\" data-stat=\"draws\">5</td><td class=\"right\" data-stat=\"losses\">11</td><td class=\"right\" data-stat=\"goals_for\">69</td><td class=\"right\" data-stat=\"goals_against\">40</td><td class=\"right\" data-stat=\"goal_diff\">+29</td><td class=\"right\" data-stat=\"points\">71</td><td class=\"right\" data-stat=\"points_avg\">1.87</td><td class=\"right\" data-stat=\"xg_for\">65.1</td><td class=\"right\" data-stat=\"xg_against\">39.4</td><td class=\"right\" data-stat=\"xg_diff\">+25.8</td><td class=\"right\" data-stat=\"xg_diff_per90\">+0.68</td><td class=\"right\" csk=\"56523\" data-stat=\"attendance_per_g\">56,523</td><td class=\"right\" csk=\"23\" data-stat=\"top_team_scorers\"><a href=\"/en/players/92e7e919/Son-Heung-min\">Son Heung-min</a> - <span>23</span></td><td class=\"right\" data-stat=\"top_keeper\"><a href=\"/en/players/8f62b6ee/Hugo-Lloris\">Hugo Lloris</a></td><td class=\"left\" data-stat=\"notes\">→ Champions League via league finish</td></tr> <tr><th class=\"right qualifier2\" csk=\"5\" data-stat=\"rank\" scope=\"row\">5</th><td class=\"left\" data-stat=\"squad\"><img alt=\"Club Crest\" height=\"13\" itemscope=\"image\" src=\"https://d2p3bygnnzw9w3.cloudfront.net/req/202207051/tlogo/fb/mini.18bb7c10.png\" style=\"vertical-align:text-top\" width=\"13\"/> <a href=\"/en/squads/18bb7c10/Arsenal-Stats\">Arsenal</a></td><td class=\"right\" data-stat=\"games\">38</td><td class=\"right\" data-stat=\"wins\">22</td><td class=\"right\" data-stat=\"draws\">3</td><td class=\"right\" data-stat=\"losses\">13</td><td class=\"right\" data-stat=\"goals_for\">61</td><td class=\"right\" data-stat=\"goals_against\">48</td><td class=\"right\" data-stat=\"goal_diff\">+13</td><td class=\"right\" data-stat=\"points\">69</td><td class=\"right\" data-stat=\"points_avg\">1.82</td><td class=\"right\" data-stat=\"xg_for\">59.9</td><td class=\"right\" data-stat=\"xg_against\">47.1</td><td class=\"right\" data-stat=\"xg_diff\">+12.8</td><td class=\"right\" data-stat=\"xg_diff_per90\">+0.34</td><td class=\"right\" csk=\"59665\" data-stat=\"attendance_per_g\">59,665</td><td class=\"right\" csk=\"11\" data-stat=\"top_team_scorers\"><a href=\"/en/players/bc7dc64d/Bukayo-Saka\">Bukayo Saka</a> - <span>11</span></td><td class=\"right\" data-stat=\"top_keeper\"><a href=\"/en/players/466fb2c5/Aaron-Ramsdale\">Aaron Ramsdale</a></td><td class=\"left\" data-stat=\"notes\">→ Europa League via league finish</td></tr> <tr><th class=\"right qualifier2\" csk=\"6\" data-stat=\"rank\" scope=\"row\">6</th><td class=\"left\" data-stat=\"squad\"><img alt=\"Club Crest\" height=\"13\" itemscope=\"image\" src=\"https://d2p3bygnnzw9w3.cloudfront.net/req/202207051/tlogo/fb/mini.19538871.png\" style=\"vertical-align:text-top\" width=\"13\"/> <a href=\"/en/squads/19538871/Manchester-United-Stats\">Manchester Utd</a></td><td class=\"right\" data-stat=\"games\">38</td><td class=\"right\" data-stat=\"wins\">16</td><td class=\"right\" data-stat=\"draws\">10</td><td class=\"right\" data-stat=\"losses\">12</td><td class=\"right\" data-stat=\"goals_for\">57</td><td class=\"right\" data-stat=\"goals_against\">57</td><td class=\"right iz\" data-stat=\"goal_diff\">0</td><td class=\"right\" data-stat=\"points\">58</td><td class=\"right\" data-stat=\"points_avg\">1.53</td><td class=\"right\" data-stat=\"xg_for\">54.8</td><td class=\"right\" data-stat=\"xg_against\">54.5</td><td class=\"right\" data-stat=\"xg_diff\">+0.3</td><td class=\"right\" data-stat=\"xg_diff_per90\">+0.01</td><td class=\"right\" csk=\"73150\" data-stat=\"attendance_per_g\">73,150</td><td class=\"right\" csk=\"18\" data-stat=\"top_team_scorers\"><a href=\"/en/players/dea698d9/Cristiano-Ronaldo\">Cristiano Ronaldo</a> - <span>18</span></td><td class=\"right\" data-stat=\"top_keeper\"><a href=\"/en/players/7ba6d84e/David-de-Gea\">David de Gea</a></td><td class=\"left\" data-stat=\"notes\">→ Europa League via league finish</td></tr> <tr><th class=\"right qualifier3\" csk=\"7\" data-stat=\"rank\" scope=\"row\">7</th><td class=\"left\" data-stat=\"squad\"><img alt=\"Club Crest\" height=\"13\" itemscope=\"image\" src=\"https://d2p3bygnnzw9w3.cloudfront.net/req/202207051/tlogo/fb/mini.7c21e445.png\" style=\"vertical-align:text-top\" width=\"13\"/> <a href=\"/en/squads/7c21e445/West-Ham-United-Stats\">West Ham</a></td><td class=\"right\" data-stat=\"games\">38</td><td class=\"right\" data-stat=\"wins\">16</td><td class=\"right\" data-stat=\"draws\">8</td><td class=\"right\" data-stat=\"losses\">14</td><td class=\"right\" data-stat=\"goals_for\">60</td><td class=\"right\" data-stat=\"goals_against\">51</td><td class=\"right\" data-stat=\"goal_diff\">+9</td><td class=\"right\" data-stat=\"points\">56</td><td class=\"right\" data-stat=\"points_avg\">1.47</td><td class=\"right\" data-stat=\"xg_for\">49.9</td><td class=\"right\" data-stat=\"xg_against\">51.0</td><td class=\"right\" data-stat=\"xg_diff\">-1.1</td><td class=\"right\" data-stat=\"xg_diff_per90\">-0.03</td><td class=\"right\" csk=\"58370\" data-stat=\"attendance_per_g\">58,370</td><td class=\"right\" csk=\"12\" data-stat=\"top_team_scorers\"><a href=\"/en/players/79c84d1c/Jarrod-Bowen\">Jarrod Bowen</a> - <span>12</span></td><td class=\"right\" data-stat=\"top_keeper\"><a href=\"/en/players/9328b835/Lukasz-Fabianski\">Łukasz Fabiański</a></td><td class=\"left\" data-stat=\"notes\">→ Europa Conference League via league finish</td></tr> <tr><th class=\"right\" csk=\"8\" data-stat=\"rank\" scope=\"row\">8</th><td class=\"left\" data-stat=\"squad\"><img alt=\"Club Crest\" height=\"13\" itemscope=\"image\" src=\"https://d2p3bygnnzw9w3.cloudfront.net/req/202207051/tlogo/fb/mini.a2d435b3.png\" style=\"vertical-align:text-top\" width=\"13\"/> <a href=\"/en/squads/a2d435b3/Leicester-City-Stats\">Leicester City</a></td><td class=\"right\" data-stat=\"games\">38</td><td class=\"right\" data-stat=\"wins\">14</td><td class=\"right\" data-stat=\"draws\">10</td><td class=\"right\" data-stat=\"losses\">14</td><td class=\"right\" data-stat=\"goals_for\">62</td><td class=\"right\" data-stat=\"goals_against\">59</td><td class=\"right\" data-stat=\"goal_diff\">+3</td><td class=\"right\" data-stat=\"points\">52</td><td class=\"right\" data-stat=\"points_avg\">1.37</td><td class=\"right\" data-stat=\"xg_for\">50.8</td><td class=\"right\" data-stat=\"xg_against\">61.0</td><td class=\"right\" data-stat=\"xg_diff\">-10.1</td><td class=\"right\" data-stat=\"xg_diff_per90\">-0.27</td><td class=\"right\" csk=\"32493\" data-stat=\"attendance_per_g\">32,493</td><td class=\"right\" csk=\"15\" data-stat=\"top_team_scorers\"><a href=\"/en/players/45963054/Jamie-Vardy\">Jamie Vardy</a> - <span>15</span></td><td class=\"right\" data-stat=\"top_keeper\"><a href=\"/en/players/53af52f3/Kasper-Schmeichel\">Kasper Schmeichel</a></td><td class=\"left iz\" data-stat=\"notes\"></td></tr> <tr><th class=\"right\" csk=\"9\" data-stat=\"rank\" scope=\"row\">9</th><td class=\"left\" data-stat=\"squad\"><img alt=\"Club Crest\" height=\"13\" itemscope=\"image\" src=\"https://d2p3bygnnzw9w3.cloudfront.net/req/202207051/tlogo/fb/mini.d07537b9.png\" style=\"vertical-align:text-top\" width=\"13\"/> <a href=\"/en/squads/d07537b9/Brighton-and-Hove-Albion-Stats\">Brighton</a></td><td class=\"right\" data-stat=\"games\">38</td><td class=\"right\" data-stat=\"wins\">12</td><td class=\"right\" data-stat=\"draws\">15</td><td class=\"right\" data-stat=\"losses\">11</td><td class=\"right\" data-stat=\"goals_for\">42</td><td class=\"right\" data-stat=\"goals_against\">44</td><td class=\"right\" data-stat=\"goal_diff\">-2</td><td class=\"right\" data-stat=\"points\">51</td><td class=\"right\" data-stat=\"points_avg\">1.34</td><td class=\"right\" data-stat=\"xg_for\">46.0</td><td class=\"right\" data-stat=\"xg_against\">45.6</td><td class=\"right\" data-stat=\"xg_diff\">+0.4</td><td class=\"right\" data-stat=\"xg_diff_per90\">+0.01</td><td class=\"right\" csk=\"30966\" data-stat=\"attendance_per_g\">30,966</td><td class=\"right\" csk=\"8\" data-stat=\"top_team_scorers\"><a href=\"/en/players/38ceb24a/Leandro-Trossard\">Leandro Trossard</a>, <a href=\"/en/players/4bcf39f6/Neal-Maupay\">Neal Maupay</a> - <span>8</span></td><td class=\"right\" data-stat=\"top_keeper\"><a href=\"/en/players/6a713852/Robert-Sanchez\">Robert Sánchez</a></td><td class=\"left iz\" data-stat=\"notes\"></td></tr> <tr><th class=\"right\" csk=\"10\" data-stat=\"rank\" scope=\"row\">10</th><td class=\"left\" data-stat=\"squad\"><img alt=\"Club Crest\" height=\"13\" itemscope=\"image\" src=\"https://d2p3bygnnzw9w3.cloudfront.net/req/202207051/tlogo/fb/mini.8cec06e1.png\" style=\"vertical-align:text-top\" width=\"13\"/> <a href=\"/en/squads/8cec06e1/Wolverhampton-Wanderers-Stats\">Wolves</a></td><td class=\"right\" data-stat=\"games\">38</td><td class=\"right\" data-stat=\"wins\">15</td><td class=\"right\" data-stat=\"draws\">6</td><td class=\"right\" data-stat=\"losses\">17</td><td class=\"right\" data-stat=\"goals_for\">38</td><td class=\"right\" data-stat=\"goals_against\">43</td><td class=\"right\" data-stat=\"goal_diff\">-5</td><td class=\"right\" data-stat=\"points\">51</td><td class=\"right\" data-stat=\"points_avg\">1.34</td><td class=\"right\" data-stat=\"xg_for\">35.9</td><td class=\"right\" data-stat=\"xg_against\">60.3</td><td class=\"right\" data-stat=\"xg_diff\">-24.4</td><td class=\"right\" data-stat=\"xg_diff_per90\">-0.64</td><td class=\"right\" csk=\"30841\" data-stat=\"attendance_per_g\">30,841</td><td class=\"right\" csk=\"6\" data-stat=\"top_team_scorers\"><a href=\"/en/players/b561db50/Raul-Jimenez\">Raúl Jiménez</a> - <span>6</span></td><td class=\"right\" data-stat=\"top_keeper\"><a href=\"/en/players/903b6e8b/Jose-Sa\">José Sá</a></td><td class=\"left iz\" data-stat=\"notes\"></td></tr> <tr><th class=\"right\" csk=\"11\" data-stat=\"rank\" scope=\"row\">11</th><td class=\"left\" data-stat=\"squad\"><img alt=\"Club Crest\" height=\"13\" itemscope=\"image\" src=\"https://d2p3bygnnzw9w3.cloudfront.net/req/202207051/tlogo/fb/mini.b2b47a98.png\" style=\"vertical-align:text-top\" width=\"13\"/> <a href=\"/en/squads/b2b47a98/Newcastle-United-Stats\">Newcastle Utd</a></td><td class=\"right\" data-stat=\"games\">38</td><td class=\"right\" data-stat=\"wins\">13</td><td class=\"right\" data-stat=\"draws\">10</td><td class=\"right\" data-stat=\"losses\">15</td><td class=\"right\" data-stat=\"goals_for\">44</td><td class=\"right\" data-stat=\"goals_against\">62</td><td class=\"right\" data-stat=\"goal_diff\">-18</td><td class=\"right\" data-stat=\"points\">49</td><td class=\"right\" data-stat=\"points_avg\">1.29</td><td class=\"right\" data-stat=\"xg_for\">40.3</td><td class=\"right\" data-stat=\"xg_against\">55.4</td><td class=\"right\" data-stat=\"xg_diff\">-15.2</td><td class=\"right\" data-stat=\"xg_diff_per90\">-0.40</td><td class=\"right\" csk=\"51487\" data-stat=\"attendance_per_g\">51,487</td><td class=\"right\" csk=\"8\" data-stat=\"top_team_scorers\"><a href=\"/en/players/c596fcb0/Callum-Wilson\">Callum Wilson</a> - <span>8</span></td><td class=\"right\" data-stat=\"top_keeper\"><a href=\"/en/players/3a949a25/Martin-Dubravka\">Martin Dúbravka</a></td><td class=\"left iz\" data-stat=\"notes\"></td></tr> <tr><th class=\"right\" csk=\"12\" data-stat=\"rank\" scope=\"row\">12</th><td class=\"left\" data-stat=\"squad\"><img alt=\"Club Crest\" height=\"13\" itemscope=\"image\" src=\"https://d2p3bygnnzw9w3.cloudfront.net/req/202207051/tlogo/fb/mini.47c64c55.png\" style=\"vertical-align:text-top\" width=\"13\"/> <a href=\"/en/squads/47c64c55/Crystal-Palace-Stats\">Crystal Palace</a></td><td class=\"right\" data-stat=\"games\">38</td><td class=\"right\" data-stat=\"wins\">11</td><td class=\"right\" data-stat=\"draws\">15</td><td class=\"right\" data-stat=\"losses\">12</td><td class=\"right\" data-stat=\"goals_for\">50</td><td class=\"right\" data-stat=\"goals_against\">46</td><td class=\"right\" data-stat=\"goal_diff\">+4</td><td class=\"right\" data-stat=\"points\">48</td><td class=\"right\" data-stat=\"points_avg\">1.26</td><td class=\"right\" data-stat=\"xg_for\">46.4</td><td class=\"right\" data-stat=\"xg_against\">41.0</td><td class=\"right\" data-stat=\"xg_diff\">+5.4</td><td class=\"right\" data-stat=\"xg_diff_per90\">+0.14</td><td class=\"right\" csk=\"24588\" data-stat=\"attendance_per_g\">24,588</td><td class=\"right\" csk=\"14\" data-stat=\"top_team_scorers\"><a href=\"/en/players/b2bc3b1f/Wilfried-Zaha\">Wilfried Zaha</a> - <span>14</span></td><td class=\"right\" data-stat=\"top_keeper\"><a href=\"/en/players/ab13a5aa/Vicente-Guaita\">Vicente Guaita</a></td><td class=\"left iz\" data-stat=\"notes\"></td></tr> <tr><th class=\"right\" csk=\"13\" data-stat=\"rank\" scope=\"row\">13</th><td class=\"left\" data-stat=\"squad\"><img alt=\"Club Crest\" height=\"13\" itemscope=\"image\" src=\"https://d2p3bygnnzw9w3.cloudfront.net/req/202207051/tlogo/fb/mini.cd051869.png\" style=\"vertical-align:text-top\" width=\"13\"/> <a href=\"/en/squads/cd051869/Brentford-Stats\">Brentford</a></td><td class=\"right\" data-stat=\"games\">38</td><td class=\"right\" data-stat=\"wins\">13</td><td class=\"right\" data-stat=\"draws\">7</td><td class=\"right\" data-stat=\"losses\">18</td><td class=\"right\" data-stat=\"goals_for\">48</td><td class=\"right\" data-stat=\"goals_against\">56</td><td class=\"right\" data-stat=\"goal_diff\">-8</td><td class=\"right\" data-stat=\"points\">46</td><td class=\"right\" data-stat=\"points_avg\">1.21</td><td class=\"right\" data-stat=\"xg_for\">47.8</td><td class=\"right\" data-stat=\"xg_against\">49.1</td><td class=\"right\" data-stat=\"xg_diff\">-1.3</td><td class=\"right\" data-stat=\"xg_diff_per90\">-0.03</td><td class=\"right\" csk=\"16918\" data-stat=\"attendance_per_g\">16,918</td><td class=\"right\" csk=\"12\" data-stat=\"top_team_scorers\"><a href=\"/en/players/e09f279b/Ivan-Toney\">Ivan Toney</a> - <span>12</span></td><td class=\"right\" data-stat=\"top_keeper\"><a href=\"/en/players/98ea5115/David-Raya\">David Raya</a></td><td class=\"left iz\" data-stat=\"notes\"></td></tr> <tr><th class=\"right\" csk=\"14\" data-stat=\"rank\" scope=\"row\">14</th><td class=\"left\" data-stat=\"squad\"><img alt=\"Club Crest\" height=\"13\" itemscope=\"image\" src=\"https://d2p3bygnnzw9w3.cloudfront.net/req/202207051/tlogo/fb/mini.8602292d.png\" style=\"vertical-align:text-top\" width=\"13\"/> <a href=\"/en/squads/8602292d/Aston-Villa-Stats\">Aston Villa</a></td><td class=\"right\" data-stat=\"games\">38</td><td class=\"right\" data-stat=\"wins\">13</td><td class=\"right\" data-stat=\"draws\">6</td><td class=\"right\" data-stat=\"losses\">19</td><td class=\"right\" data-stat=\"goals_for\">52</td><td class=\"right\" data-stat=\"goals_against\">54</td><td class=\"right\" data-stat=\"goal_diff\">-2</td><td class=\"right\" data-stat=\"points\">45</td><td class=\"right\" data-stat=\"points_avg\">1.18</td><td class=\"right\" data-stat=\"xg_for\">44.0</td><td class=\"right\" data-stat=\"xg_against\">49.1</td><td class=\"right\" data-stat=\"xg_diff\">-5.1</td><td class=\"right\" data-stat=\"xg_diff_per90\">-0.13</td><td class=\"right\" csk=\"41681\" data-stat=\"attendance_per_g\">41,681</td><td class=\"right\" csk=\"11\" data-stat=\"top_team_scorers\"><a href=\"/en/players/aed3a70f/Ollie-Watkins\">Ollie Watkins</a> - <span>11</span></td><td class=\"right\" data-stat=\"top_keeper\"><a href=\"/en/players/7956236f/Emiliano-Martinez\">Emiliano Martínez</a></td><td class=\"left iz\" data-stat=\"notes\"></td></tr> <tr><th class=\"right\" csk=\"15\" data-stat=\"rank\" scope=\"row\">15</th><td class=\"left\" data-stat=\"squad\"><img alt=\"Club Crest\" height=\"13\" itemscope=\"image\" src=\"https://d2p3bygnnzw9w3.cloudfront.net/req/202207051/tlogo/fb/mini.33c895d4.png\" style=\"vertical-align:text-top\" width=\"13\"/> <a href=\"/en/squads/33c895d4/Southampton-Stats\">Southampton</a></td><td class=\"right\" data-stat=\"games\">38</td><td class=\"right\" data-stat=\"wins\">9</td><td class=\"right\" data-stat=\"draws\">13</td><td class=\"right\" data-stat=\"losses\">16</td><td class=\"right\" data-stat=\"goals_for\">43</td><td class=\"right\" data-stat=\"goals_against\">67</td><td class=\"right\" data-stat=\"goal_diff\">-24</td><td class=\"right\" data-stat=\"points\">40</td><td class=\"right\" data-stat=\"points_avg\">1.05</td><td class=\"right\" data-stat=\"xg_for\">46.8</td><td class=\"right\" data-stat=\"xg_against\">58.6</td><td class=\"right\" data-stat=\"xg_diff\">-11.9</td><td class=\"right\" data-stat=\"xg_diff_per90\">-0.31</td><td class=\"right\" csk=\"30134\" data-stat=\"attendance_per_g\">30,134</td><td class=\"right\" csk=\"10\" data-stat=\"top_team_scorers\"><a href=\"/en/players/3515d404/James-Ward-Prowse\">James Ward-Prowse</a> - <span>10</span></td><td class=\"right\" data-stat=\"top_keeper\"><a href=\"/en/players/c3e39f12/Fraser-Forster\">Fraser Forster</a></td><td class=\"left iz\" data-stat=\"notes\"></td></tr> <tr><th class=\"right\" csk=\"16\" data-stat=\"rank\" scope=\"row\">16</th><td class=\"left\" data-stat=\"squad\"><img alt=\"Club Crest\" height=\"13\" itemscope=\"image\" src=\"https://d2p3bygnnzw9w3.cloudfront.net/req/202207051/tlogo/fb/mini.d3fd31cc.png\" style=\"vertical-align:text-top\" width=\"13\"/> <a href=\"/en/squads/d3fd31cc/Everton-Stats\">Everton</a></td><td class=\"right\" data-stat=\"games\">38</td><td class=\"right\" data-stat=\"wins\">11</td><td class=\"right\" data-stat=\"draws\">6</td><td class=\"right\" data-stat=\"losses\">21</td><td class=\"right\" data-stat=\"goals_for\">43</td><td class=\"right\" data-stat=\"goals_against\">66</td><td class=\"right\" data-stat=\"goal_diff\">-23</td><td class=\"right\" data-stat=\"points\">39</td><td class=\"right\" data-stat=\"points_avg\">1.03</td><td class=\"right\" data-stat=\"xg_for\">42.8</td><td class=\"right\" data-stat=\"xg_against\">54.5</td><td class=\"right\" data-stat=\"xg_diff\">-11.7</td><td class=\"right\" data-stat=\"xg_diff_per90\">-0.31</td><td class=\"right\" csk=\"38446\" data-stat=\"attendance_per_g\">38,446</td><td class=\"right\" csk=\"10\" data-stat=\"top_team_scorers\"><a href=\"/en/players/fa031b34/Richarlison\">Richarlison</a> - <span>10</span></td><td class=\"right\" data-stat=\"top_keeper\"><a href=\"/en/players/4806ec67/Jordan-Pickford\">Jordan Pickford</a></td><td class=\"left iz\" data-stat=\"notes\"></td></tr> <tr><th class=\"right\" csk=\"17\" data-stat=\"rank\" scope=\"row\">17</th><td class=\"left\" data-stat=\"squad\"><img alt=\"Club Crest\" height=\"13\" itemscope=\"image\" src=\"https://d2p3bygnnzw9w3.cloudfront.net/req/202207051/tlogo/fb/mini.5bfb9659.png\" style=\"vertical-align:text-top\" width=\"13\"/> <a href=\"/en/squads/5bfb9659/Leeds-United-Stats\">Leeds United</a></td><td class=\"right\" data-stat=\"games\">38</td><td class=\"right\" data-stat=\"wins\">9</td><td class=\"right\" data-stat=\"draws\">11</td><td class=\"right\" data-stat=\"losses\">18</td><td class=\"right\" data-stat=\"goals_for\">42</td><td class=\"right\" data-stat=\"goals_against\">79</td><td class=\"right\" data-stat=\"goal_diff\">-37</td><td class=\"right\" data-stat=\"points\">38</td><td class=\"right\" data-stat=\"points_avg\">1.00</td><td class=\"right\" data-stat=\"xg_for\">47.2</td><td class=\"right\" data-stat=\"xg_against\">70.1</td><td class=\"right\" data-stat=\"xg_diff\">-23.0</td><td class=\"right\" data-stat=\"xg_diff_per90\">-0.60</td><td class=\"right\" csk=\"36308\" data-stat=\"attendance_per_g\">36,308</td><td class=\"right\" csk=\"11\" data-stat=\"top_team_scorers\"><a href=\"/en/players/3423f250/Raphinha\">Raphinha</a> - <span>11</span></td><td class=\"right\" data-stat=\"top_keeper\"><a href=\"/en/players/6b625ac2/Illan-Meslier\">Illan Meslier</a></td><td class=\"left iz\" data-stat=\"notes\"></td></tr> <tr><th class=\"right relegate\" csk=\"18\" data-stat=\"rank\" scope=\"row\">18</th><td class=\"left\" data-stat=\"squad\"><img alt=\"Club Crest\" height=\"13\" itemscope=\"image\" src=\"https://d2p3bygnnzw9w3.cloudfront.net/req/202207051/tlogo/fb/mini.943e8050.png\" style=\"vertical-align:text-top\" width=\"13\"/> <a href=\"/en/squads/943e8050/2021-2022/Burnley-Stats\">Burnley</a></td><td class=\"right\" data-stat=\"games\">38</td><td class=\"right\" data-stat=\"wins\">7</td><td class=\"right\" data-stat=\"draws\">14</td><td class=\"right\" data-stat=\"losses\">17</td><td class=\"right\" data-stat=\"goals_for\">34</td><td class=\"right\" data-stat=\"goals_against\">53</td><td class=\"right\" data-stat=\"goal_diff\">-19</td><td class=\"right\" data-stat=\"points\">35</td><td class=\"right\" data-stat=\"points_avg\">0.92</td><td class=\"right\" data-stat=\"xg_for\">39.0</td><td class=\"right\" data-stat=\"xg_against\">56.7</td><td class=\"right\" data-stat=\"xg_diff\">-17.7</td><td class=\"right\" data-stat=\"xg_diff_per90\">-0.47</td><td class=\"right\" csk=\"19278\" data-stat=\"attendance_per_g\">19,278</td><td class=\"right\" csk=\"9\" data-stat=\"top_team_scorers\"><a href=\"/en/players/beb391dd/Maxwel-Cornet\">Maxwel Cornet</a> - <span>9</span></td><td class=\"right\" data-stat=\"top_keeper\"><a href=\"/en/players/4b40d9ca/Nick-Pope\">Nick Pope</a></td><td class=\"left\" data-stat=\"notes\">Relegated</td></tr> <tr><th class=\"right relegate\" csk=\"19\" data-stat=\"rank\" scope=\"row\">19</th><td class=\"left\" data-stat=\"squad\"><img alt=\"Club Crest\" height=\"13\" itemscope=\"image\" src=\"https://d2p3bygnnzw9w3.cloudfront.net/req/202207051/tlogo/fb/mini.2abfe087.png\" style=\"vertical-align:text-top\" width=\"13\"/> <a href=\"/en/squads/2abfe087/2021-2022/Watford-Stats\">Watford</a></td><td class=\"right\" data-stat=\"games\">38</td><td class=\"right\" data-stat=\"wins\">6</td><td class=\"right\" data-stat=\"draws\">5</td><td class=\"right\" data-stat=\"losses\">27</td><td class=\"right\" data-stat=\"goals_for\">34</td><td class=\"right\" data-stat=\"goals_against\">77</td><td class=\"right\" data-stat=\"goal_diff\">-43</td><td class=\"right\" data-stat=\"points\">23</td><td class=\"right\" data-stat=\"points_avg\">0.61</td><td class=\"right\" data-stat=\"xg_for\">38.8</td><td class=\"right\" data-stat=\"xg_against\">66.6</td><td class=\"right\" data-stat=\"xg_diff\">-27.8</td><td class=\"right\" data-stat=\"xg_diff_per90\">-0.73</td><td class=\"right\" csk=\"20614\" data-stat=\"attendance_per_g\">20,614</td><td class=\"right\" csk=\"10\" data-stat=\"top_team_scorers\"><a href=\"/en/players/2c44a35d/Emmanuel-Dennis\">Emmanuel Dennis</a> - <span>10</span></td><td class=\"right\" data-stat=\"top_keeper\"><a href=\"/en/players/d0b3ceb9/Ben-Foster\">Ben Foster</a></td><td class=\"left\" data-stat=\"notes\">Relegated</td></tr> <tr><th class=\"right relegate\" csk=\"20\" data-stat=\"rank\" scope=\"row\">20</th><td class=\"left\" data-stat=\"squad\"><img alt=\"Club Crest\" height=\"13\" itemscope=\"image\" src=\"https://d2p3bygnnzw9w3.cloudfront.net/req/202207051/tlogo/fb/mini.1c781004.png\" style=\"vertical-align:text-top\" width=\"13\"/> <a href=\"/en/squads/1c781004/2021-2022/Norwich-City-Stats\">Norwich City</a></td><td class=\"right\" data-stat=\"games\">38</td><td class=\"right\" data-stat=\"wins\">5</td><td class=\"right\" data-stat=\"draws\">7</td><td class=\"right\" data-stat=\"losses\">26</td><td class=\"right\" data-stat=\"goals_for\">23</td><td class=\"right\" data-stat=\"goals_against\">84</td><td class=\"right\" data-stat=\"goal_diff\">-61</td><td class=\"right\" data-stat=\"points\">22</td><td class=\"right\" data-stat=\"points_avg\">0.58</td><td class=\"right\" data-stat=\"xg_for\">33.3</td><td class=\"right\" data-stat=\"xg_against\">77.0</td><td class=\"right\" data-stat=\"xg_diff\">-43.6</td><td class=\"right\" data-stat=\"xg_diff_per90\">-1.15</td><td class=\"right\" csk=\"26836\" data-stat=\"attendance_per_g\">26,836</td><td class=\"right\" csk=\"11\" data-stat=\"top_team_scorers\"><a href=\"/en/players/0745b37d/Teemu-Pukki\">Teemu Pukki</a> - <span>11</span></td><td class=\"right\" data-stat=\"top_keeper\"><a href=\"/en/players/f23f9d20/Tim-Krul\">Tim Krul</a></td><td class=\"left\" data-stat=\"notes\">Relegated</td></tr> </tbody> </table>"
      ]
     },
     "execution_count": 7,
     "metadata": {},
     "output_type": "execute_result"
    }
   ],
   "source": [
    "standingsTable"
   ]
  },
  {
   "cell_type": "code",
   "execution_count": 8,
   "id": "bf1ce94c",
   "metadata": {},
   "outputs": [],
   "source": [
    "links = standingsTable.find_all('a')"
   ]
  },
  {
   "cell_type": "code",
   "execution_count": 9,
   "id": "5edcbdff",
   "metadata": {},
   "outputs": [],
   "source": [
    "links = [l.get('href') for l in links]"
   ]
  },
  {
   "cell_type": "code",
   "execution_count": 10,
   "id": "559aa778",
   "metadata": {},
   "outputs": [],
   "source": [
    "links = [l for l in links if '/squads/' in l]"
   ]
  },
  {
   "cell_type": "code",
   "execution_count": 11,
   "id": "eaab6552",
   "metadata": {},
   "outputs": [],
   "source": [
    "teamURLs = [f'https://fbref.com{l}' for l in links]"
   ]
  },
  {
   "cell_type": "code",
   "execution_count": 12,
   "id": "0ce78e36",
   "metadata": {},
   "outputs": [],
   "source": [
    "data = requests.get(teamURLs[0])"
   ]
  },
  {
   "cell_type": "code",
   "execution_count": 13,
   "id": "44b0a475",
   "metadata": {},
   "outputs": [],
   "source": [
    "import pandas as pd\n",
    "from lxml import html\n",
    "matches = pd.read_html(data.text, match='Scores & Fixtures')[0]"
   ]
  },
  {
   "cell_type": "code",
   "execution_count": 14,
   "id": "1f68e392",
   "metadata": {},
   "outputs": [],
   "source": [
    "soup = BeautifulSoup(data.text)"
   ]
  },
  {
   "cell_type": "code",
   "execution_count": 15,
   "id": "79edc106",
   "metadata": {},
   "outputs": [],
   "source": [
    "links = soup.find_all('a')"
   ]
  },
  {
   "cell_type": "code",
   "execution_count": 16,
   "id": "a95b2a5c",
   "metadata": {},
   "outputs": [],
   "source": [
    "links = [l.get('href') for l in links]"
   ]
  },
  {
   "cell_type": "code",
   "execution_count": 17,
   "id": "8efba47d",
   "metadata": {},
   "outputs": [],
   "source": [
    "links =[l for l in links if l and 'all_comps/shooting/' in l]"
   ]
  },
  {
   "cell_type": "code",
   "execution_count": 18,
   "id": "95e56d7a",
   "metadata": {},
   "outputs": [],
   "source": [
    "data = requests.get(f'https://fbref.com{links[0]}')"
   ]
  },
  {
   "cell_type": "code",
   "execution_count": 19,
   "id": "73e62b65",
   "metadata": {},
   "outputs": [],
   "source": [
    "shooting = pd.read_html(data.text, match='Shooting')[0]"
   ]
  },
  {
   "cell_type": "code",
   "execution_count": 20,
   "id": "c4033a1d",
   "metadata": {},
   "outputs": [],
   "source": [
    "shooting.columns = shooting.columns.droplevel()"
   ]
  },
  {
   "cell_type": "code",
   "execution_count": 21,
   "id": "fc9f8650",
   "metadata": {},
   "outputs": [],
   "source": [
    "teamData = matches.merge(shooting[['Date', 'Sh', 'SoT', 'Dist', 'FK', 'PK', 'PKatt']],  on='Date')"
   ]
  },
  {
   "cell_type": "code",
   "execution_count": 22,
   "id": "274362ec",
   "metadata": {},
   "outputs": [],
   "source": [
    "years = list(range(2022, 2021, -1))"
   ]
  },
  {
   "cell_type": "code",
   "execution_count": 23,
   "id": "8701d0c2",
   "metadata": {},
   "outputs": [],
   "source": [
    "allMatches = []"
   ]
  },
  {
   "cell_type": "code",
   "execution_count": 24,
   "id": "4b8bec4f",
   "metadata": {},
   "outputs": [
    {
     "ename": "IndexError",
     "evalue": "list index out of range",
     "output_type": "error",
     "traceback": [
      "\u001b[1;31m---------------------------------------------------------------------------\u001b[0m",
      "\u001b[1;31mIndexError\u001b[0m                                Traceback (most recent call last)",
      "Input \u001b[1;32mIn [24]\u001b[0m, in \u001b[0;36m<cell line: 2>\u001b[1;34m()\u001b[0m\n\u001b[0;32m      9\u001b[0m links \u001b[38;5;241m=\u001b[39m [l \u001b[38;5;28;01mfor\u001b[39;00m l \u001b[38;5;129;01min\u001b[39;00m links \u001b[38;5;28;01mif\u001b[39;00m \u001b[38;5;124m'\u001b[39m\u001b[38;5;124m/squads/\u001b[39m\u001b[38;5;124m'\u001b[39m \u001b[38;5;129;01min\u001b[39;00m l]\n\u001b[0;32m     10\u001b[0m teamURLs \u001b[38;5;241m=\u001b[39m [\u001b[38;5;124mf\u001b[39m\u001b[38;5;124m'\u001b[39m\u001b[38;5;124mhttps://fbref.com\u001b[39m\u001b[38;5;132;01m{\u001b[39;00ml\u001b[38;5;132;01m}\u001b[39;00m\u001b[38;5;124m'\u001b[39m \u001b[38;5;28;01mfor\u001b[39;00m l \u001b[38;5;129;01min\u001b[39;00m links]\n\u001b[1;32m---> 12\u001b[0m previousSeasons \u001b[38;5;241m=\u001b[39m \u001b[43msoup\u001b[49m\u001b[38;5;241;43m.\u001b[39;49m\u001b[43mselect\u001b[49m\u001b[43m(\u001b[49m\u001b[38;5;124;43m'\u001b[39;49m\u001b[38;5;124;43ma.prev\u001b[39;49m\u001b[38;5;124;43m'\u001b[39;49m\u001b[43m)\u001b[49m\u001b[43m[\u001b[49m\u001b[38;5;241;43m0\u001b[39;49m\u001b[43m]\u001b[49m\u001b[38;5;241m.\u001b[39mget(\u001b[38;5;124m'\u001b[39m\u001b[38;5;124mhref\u001b[39m\u001b[38;5;124m'\u001b[39m)\n\u001b[0;32m     13\u001b[0m time\u001b[38;5;241m.\u001b[39msleep[\u001b[38;5;241m5\u001b[39m]\n\u001b[0;32m     14\u001b[0m standingURL \u001b[38;5;241m=\u001b[39m \u001b[38;5;124mf\u001b[39m\u001b[38;5;124m'\u001b[39m\u001b[38;5;124mhttps://fbref.com\u001b[39m\u001b[38;5;132;01m{\u001b[39;00mpreviousSeasons\u001b[38;5;132;01m}\u001b[39;00m\u001b[38;5;124m'\u001b[39m\n",
      "\u001b[1;31mIndexError\u001b[0m: list index out of range"
     ]
    }
   ],
   "source": [
    "import time\n",
    "for year in years:\n",
    "    data = requests.get(standingsURL)\n",
    "    soup = BeautifulSoup(data.text)\n",
    "    time.sleep(5)\n",
    "    standingsTable\n",
    "    \n",
    "    links = [l.get('href') for l in standingsTable.find_all('a')]\n",
    "    links = [l for l in links if '/squads/' in l]\n",
    "    teamURLs = [f'https://fbref.com{l}' for l in links]\n",
    "    \n",
    "    previousSeasons = soup.select('a.prev')[0].get('href')\n",
    "    standingURL = f'https://fbref.com{previousSeasons}'\n",
    "    \n",
    "\n",
    "    for teamURL in teamURLs:\n",
    "        teamName = teamURL.split('/')[-1].replace('-Stats', '').replace('-', ' ')\n",
    "\n",
    "        data = requests.get(teamURL)\n",
    "        matches\n",
    "\n",
    "\n",
    "        soup = BeautifulSoup(data.text)\n",
    "        time.sleep(5)\n",
    "        links = [l.get('href') for l in soup.find_all('a')]\n",
    "        links = [l for l in links if l and 'all_comps/shooting/' in l]\n",
    "        data = requests.get(f'https://fbref.com{links[0]}')\n",
    "        shooting = pd.read_html(data.text, match='Shooting')[0]\n",
    "        shooting.columns = shooting.columns.droplevel()\n",
    "\n",
    "        try:\n",
    "            teamData = matches.merge(shooting[['Date', 'Sh', 'SoT', 'Dist', 'FK', 'PK', 'PKatt']],  on='Date')\n",
    "        except ValueError:\n",
    "            continue\n",
    "\n",
    "        teamData = teamData[teamData['Comp'] == 'Premier League']\n",
    "        teamData['Season'] = year\n",
    "        teamData['Team'] = teamName\n",
    "        allMatches.append(teamData)\n",
    "        time.sleep(5)\n",
    "    \n",
    "    "
   ]
  },
  {
   "cell_type": "code",
   "execution_count": null,
   "id": "2808432e",
   "metadata": {},
   "outputs": [],
   "source": [
    "matchDF = pd.concat(allMatches)"
   ]
  },
  {
   "cell_type": "code",
   "execution_count": null,
   "id": "7cf5402e",
   "metadata": {},
   "outputs": [],
   "source": [
    "matchDF.columns = [c.lower() for c in matchDF.columns]"
   ]
  },
  {
   "cell_type": "code",
   "execution_count": null,
   "id": "f119e922",
   "metadata": {},
   "outputs": [],
   "source": [
    "matchDF.to_csv('myMatches.csv')"
   ]
  },
  {
   "cell_type": "code",
   "execution_count": null,
   "id": "094f7582",
   "metadata": {},
   "outputs": [],
   "source": []
  }
 ],
 "metadata": {
  "kernelspec": {
   "display_name": "Python 3 (ipykernel)",
   "language": "python",
   "name": "python3"
  },
  "language_info": {
   "codemirror_mode": {
    "name": "ipython",
    "version": 3
   },
   "file_extension": ".py",
   "mimetype": "text/x-python",
   "name": "python",
   "nbconvert_exporter": "python",
   "pygments_lexer": "ipython3",
   "version": "3.10.4"
  }
 },
 "nbformat": 4,
 "nbformat_minor": 5
}
